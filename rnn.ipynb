{
  "nbformat": 4,
  "nbformat_minor": 0,
  "metadata": {
    "colab": {
      "provenance": []
    },
    "kernelspec": {
      "name": "python3",
      "display_name": "Python 3"
    },
    "language_info": {
      "name": "python"
    }
  },
  "cells": [
    {
      "cell_type": "code",
      "execution_count": 50,
      "metadata": {
        "id": "fz97tdNNZzW4"
      },
      "outputs": [],
      "source": [
        "import numpy as np\n",
        "import torch\n",
        "import torch.nn as nn\n",
        "import torch.optim as optim\n",
        "import random\n",
        "import time\n",
        "from tqdm import tqdm\n",
        "import json\n",
        "import string\n",
        "from argparse import ArgumentParser\n",
        "import pickle\n",
        "\n",
        "unk = '<UNK>'\n"
      ]
    },
    {
      "cell_type": "code",
      "source": [
        "class RNN(nn.Module):\n",
        "    def __init__(self, input_dim, h):\n",
        "        super(RNN, self).__init__()\n",
        "        self.h = h\n",
        "        self.numOfLayer = 1  # We will use 1 layer of RNN\n",
        "        self.rnn = nn.RNN(input_dim, h, self.numOfLayer, nonlinearity='tanh')  # RNN layer with tanh activation\n",
        "        self.W = nn.Linear(h, 5)  # Linear layer for 5 classes (adjust as needed)\n",
        "        self.softmax = nn.LogSoftmax(dim=1)  # Softmax for output layer\n",
        "        self.loss = nn.NLLLoss()  # Negative log likelihood loss for classification\n",
        "\n",
        "    def compute_Loss(self, predicted_vector, gold_label):\n",
        "        return self.loss(predicted_vector, gold_label)\n",
        "\n",
        "    def forward(self, inputs):\n",
        "        _, hidden = self.rnn(inputs)  # hidden state from RNN\n",
        "        output = self.W(hidden[-1])  # Linear transformation on the last hidden state (for classification)\n",
        "        predicted_vector = self.softmax(output)  # Applying softmax to get probability distribution\n",
        "        return predicted_vector\n"
      ],
      "metadata": {
        "id": "kLtROL4uacyf"
      },
      "execution_count": 51,
      "outputs": []
    },
    {
      "cell_type": "code",
      "source": [
        "def load_data(train_data, val_data):\n",
        "    with open(train_data) as training_f:\n",
        "        training = json.load(training_f)\n",
        "    with open(val_data) as valid_f:\n",
        "        validation = json.load(valid_f)\n",
        "\n",
        "    tra = []\n",
        "    val = []\n",
        "    for elt in training:\n",
        "        tra.append((elt[\"text\"].split(), int(elt[\"stars\"] - 1)))  # Converting stars to 0-4\n",
        "    for elt in validation:\n",
        "        val.append((elt[\"text\"].split(), int(elt[\"stars\"] - 1)))  # Converting stars to 0-4\n",
        "    return tra, val\n"
      ],
      "metadata": {
        "id": "L43jN1xYagFA"
      },
      "execution_count": 52,
      "outputs": []
    },
    {
      "cell_type": "code",
      "source": [
        "parser = ArgumentParser()\n",
        "parser.add_argument(\"-hd\", \"--hidden_dim\", type=int, default=50, help=\"Hidden layer dimension\")\n",
        "parser.add_argument(\"-e\", \"--epochs\", type=int, default=10, help=\"Number of epochs to train\")\n",
        "parser.add_argument(\"--train_data\", default=r\"/content/training.json\", help=\"Path to training data\")\n",
        "parser.add_argument(\"--val_data\", default=r\"/content/validation.json\", help=\"Path to validation data\")\n",
        "parser.add_argument(\"--test_data\", default=r\"/content/test.json\", help=\"Path to test data\")\n",
        "parser.add_argument('--do_train', action='store_true')\n",
        "args = parser.parse_args([])  # Empty list to run in Jupyter/Colab\n",
        "\n",
        "print(\"========== Loading data ==========\")\n",
        "train_data, valid_data = load_data(args.train_data, args.val_data)  # Load the training and validation data\n"
      ],
      "metadata": {
        "colab": {
          "base_uri": "https://localhost:8080/"
        },
        "id": "4bqIuef1aho8",
        "outputId": "b5975d7e-dccc-43de-cde6-e3014fdd1d8f"
      },
      "execution_count": 60,
      "outputs": [
        {
          "output_type": "stream",
          "name": "stdout",
          "text": [
            "========== Loading data ==========\n"
          ]
        }
      ]
    },
    {
      "cell_type": "code",
      "source": [
        "print(\"========== Loading word embeddings ==========\")\n",
        "word_embedding = pickle.load(open(\"/content/word_embedding.pkl\", 'rb'))  # Load pre-trained word embeddings from pickle\n"
      ],
      "metadata": {
        "colab": {
          "base_uri": "https://localhost:8080/"
        },
        "id": "tp8OMuhHajLf",
        "outputId": "fae0196e-f66f-4eee-a098-d4d180f6ec9a"
      },
      "execution_count": 61,
      "outputs": [
        {
          "output_type": "stream",
          "name": "stdout",
          "text": [
            "========== Loading word embeddings ==========\n"
          ]
        }
      ]
    },
    {
      "cell_type": "code",
      "source": [
        "print(\"========== Vectorizing data ==========\")\n",
        "model = RNN(50, args.hidden_dim)  # Create RNN model (input_dim=50, hidden_dim from args)\n",
        "optimizer = optim.Adam(model.parameters(), lr=0.01)  # Use Adam optimizer\n"
      ],
      "metadata": {
        "colab": {
          "base_uri": "https://localhost:8080/"
        },
        "id": "3hkSqkgLala-",
        "outputId": "7d654c10-4a31-4126-80fd-f4d78ea1cf25"
      },
      "execution_count": 62,
      "outputs": [
        {
          "output_type": "stream",
          "name": "stdout",
          "text": [
            "========== Vectorizing data ==========\n"
          ]
        }
      ]
    },
    {
      "cell_type": "code",
      "source": [
        "import matplotlib.pyplot as plt\n",
        "import string\n",
        "import random\n",
        "import torch\n",
        "from tqdm import tqdm\n",
        "\n",
        "# Initialize lists to store accuracies and losses\n",
        "train_accuracies = []\n",
        "val_accuracies = []\n",
        "train_losses = []  # List to store training losses\n",
        "\n",
        "stopping_condition = False\n",
        "epoch = 0\n",
        "last_train_accuracy = 0\n",
        "last_validation_accuracy = 0\n",
        "\n",
        "while not stopping_condition:\n",
        "    random.shuffle(train_data)  # Shuffle training data\n",
        "    model.train()  # Set model to training mode\n",
        "\n",
        "    print(\"Training started for epoch {}\".format(epoch + 1))\n",
        "    correct = 0\n",
        "    total = 0\n",
        "    minibatch_size = 16\n",
        "    N = len(train_data)\n",
        "\n",
        "    loss_total = 0\n",
        "    loss_count = 0\n",
        "    for minibatch_index in tqdm(range(N // minibatch_size)):\n",
        "        optimizer.zero_grad()  # Reset gradients for each minibatch\n",
        "        loss = None\n",
        "\n",
        "        for example_index in range(minibatch_size):\n",
        "            input_words, gold_label = train_data[minibatch_index * minibatch_size + example_index]\n",
        "            input_words = \" \".join(input_words)\n",
        "\n",
        "            # Remove punctuation and split words\n",
        "            input_words = input_words.translate(input_words.maketrans(\"\", \"\", string.punctuation)).split()\n",
        "\n",
        "            # Look up word embeddings for the words in the sentence\n",
        "            vectors = [word_embedding[i.lower()] if i.lower() in word_embedding.keys() else word_embedding['unk'] for i in input_words]\n",
        "\n",
        "            # Convert to tensor and reshape for RNN input: (seq_len, batch_size, input_dim)\n",
        "            vectors = torch.tensor(vectors).view(len(vectors), 1, -1)\n",
        "            output = model(vectors)  # Forward pass\n",
        "\n",
        "            # Calculate loss\n",
        "            example_loss = model.compute_Loss(output.view(1, -1), torch.tensor([gold_label]))\n",
        "            predicted_label = torch.argmax(output)\n",
        "\n",
        "            correct += int(predicted_label == gold_label)\n",
        "            total += 1\n",
        "\n",
        "            if loss is None:\n",
        "                loss = example_loss\n",
        "            else:\n",
        "                loss += example_loss\n",
        "\n",
        "        loss = loss / minibatch_size\n",
        "        loss_total += loss.data\n",
        "        loss_count += 1\n",
        "        loss.backward()  # Backpropagate gradients\n",
        "        optimizer.step()  # Update model parameters\n",
        "\n",
        "    avg_train_loss = loss_total / loss_count  # Average loss for the epoch\n",
        "    train_losses.append(avg_train_loss.item())  # Store training loss\n",
        "    print(f\"Average training loss for epoch {epoch + 1}: {avg_train_loss.item()}\")\n",
        "    print(\"Training completed for epoch {}\".format(epoch + 1))\n",
        "    train_accuracy = correct / total\n",
        "    print(\"Training accuracy for epoch {}: {}\".format(epoch + 1, train_accuracy))\n",
        "    train_accuracies.append(train_accuracy)  # Store training accuracy\n",
        "\n",
        "    # Validation\n",
        "    model.eval()  # Set model to evaluation mode\n",
        "    correct = 0\n",
        "    total = 0\n",
        "    random.shuffle(valid_data)\n",
        "    print(\"Validation started for epoch {}\".format(epoch + 1))\n",
        "\n",
        "    for input_words, gold_label in tqdm(valid_data):\n",
        "        input_words = \" \".join(input_words)\n",
        "        input_words = input_words.translate(input_words.maketrans(\"\", \"\", string.punctuation)).split()\n",
        "        vectors = [word_embedding[i.lower()] if i.lower() in word_embedding.keys() else word_embedding['unk'] for i in input_words]\n",
        "\n",
        "        vectors = torch.tensor(vectors).view(len(vectors), 1, -1)\n",
        "        output = model(vectors)\n",
        "        predicted_label = torch.argmax(output)\n",
        "        correct += int(predicted_label == gold_label)\n",
        "        total += 1\n",
        "\n",
        "    validation_accuracy = correct / total\n",
        "    print(\"Validation completed for epoch {}\".format(epoch + 1))\n",
        "    print(\"Validation accuracy for epoch {}: {}\".format(epoch + 1, validation_accuracy))\n",
        "    val_accuracies.append(validation_accuracy)  # Store validation accuracy\n",
        "\n",
        "    # Early stopping check\n",
        "    if validation_accuracy < last_validation_accuracy and train_accuracy > last_train_accuracy:\n",
        "        stopping_condition = True\n",
        "        print(\"Training done to avoid overfitting!\")\n",
        "        print(\"Best validation accuracy is:\", last_validation_accuracy)\n",
        "    else:\n",
        "        last_validation_accuracy = validation_accuracy\n",
        "        last_train_accuracy = train_accuracy\n",
        "\n",
        "    epoch += 1"
      ],
      "metadata": {
        "colab": {
          "base_uri": "https://localhost:8080/"
        },
        "id": "URRPbpNxfJlV",
        "outputId": "09320fb8-844f-46c5-93c7-3db6c91ad284"
      },
      "execution_count": 63,
      "outputs": [
        {
          "output_type": "stream",
          "name": "stdout",
          "text": [
            "Training started for epoch 1\n"
          ]
        },
        {
          "output_type": "stream",
          "name": "stderr",
          "text": [
            "100%|██████████| 1000/1000 [04:21<00:00,  3.83it/s]\n"
          ]
        },
        {
          "output_type": "stream",
          "name": "stdout",
          "text": [
            "Average training loss for epoch 1: 1.6637827157974243\n",
            "Training completed for epoch 1\n",
            "Training accuracy for epoch 1: 0.2169375\n",
            "Validation started for epoch 1\n"
          ]
        },
        {
          "output_type": "stream",
          "name": "stderr",
          "text": [
            "100%|██████████| 800/800 [00:07<00:00, 113.43it/s]\n"
          ]
        },
        {
          "output_type": "stream",
          "name": "stdout",
          "text": [
            "Validation completed for epoch 1\n",
            "Validation accuracy for epoch 1: 0.2125\n",
            "Training started for epoch 2\n"
          ]
        },
        {
          "output_type": "stream",
          "name": "stderr",
          "text": [
            "100%|██████████| 1000/1000 [04:20<00:00,  3.85it/s]\n"
          ]
        },
        {
          "output_type": "stream",
          "name": "stdout",
          "text": [
            "Average training loss for epoch 2: 1.6515223979949951\n",
            "Training completed for epoch 2\n",
            "Training accuracy for epoch 2: 0.21675\n",
            "Validation started for epoch 2\n"
          ]
        },
        {
          "output_type": "stream",
          "name": "stderr",
          "text": [
            "100%|██████████| 800/800 [00:07<00:00, 109.41it/s]\n"
          ]
        },
        {
          "output_type": "stream",
          "name": "stdout",
          "text": [
            "Validation completed for epoch 2\n",
            "Validation accuracy for epoch 2: 0.0875\n",
            "Training started for epoch 3\n"
          ]
        },
        {
          "output_type": "stream",
          "name": "stderr",
          "text": [
            "100%|██████████| 1000/1000 [04:22<00:00,  3.80it/s]\n"
          ]
        },
        {
          "output_type": "stream",
          "name": "stdout",
          "text": [
            "Average training loss for epoch 3: 1.642458200454712\n",
            "Training completed for epoch 3\n",
            "Training accuracy for epoch 3: 0.231875\n",
            "Validation started for epoch 3\n"
          ]
        },
        {
          "output_type": "stream",
          "name": "stderr",
          "text": [
            "100%|██████████| 800/800 [00:06<00:00, 120.76it/s]\n"
          ]
        },
        {
          "output_type": "stream",
          "name": "stdout",
          "text": [
            "Validation completed for epoch 3\n",
            "Validation accuracy for epoch 3: 0.32625\n",
            "Training started for epoch 4\n"
          ]
        },
        {
          "output_type": "stream",
          "name": "stderr",
          "text": [
            "100%|██████████| 1000/1000 [04:21<00:00,  3.82it/s]\n"
          ]
        },
        {
          "output_type": "stream",
          "name": "stdout",
          "text": [
            "Average training loss for epoch 4: 1.6305583715438843\n",
            "Training completed for epoch 4\n",
            "Training accuracy for epoch 4: 0.2421875\n",
            "Validation started for epoch 4\n"
          ]
        },
        {
          "output_type": "stream",
          "name": "stderr",
          "text": [
            "100%|██████████| 800/800 [00:06<00:00, 132.49it/s]"
          ]
        },
        {
          "output_type": "stream",
          "name": "stdout",
          "text": [
            "Validation completed for epoch 4\n",
            "Validation accuracy for epoch 4: 0.1075\n",
            "Training done to avoid overfitting!\n",
            "Best validation accuracy is: 0.32625\n"
          ]
        },
        {
          "output_type": "stream",
          "name": "stderr",
          "text": [
            "\n"
          ]
        }
      ]
    },
    {
      "cell_type": "code",
      "source": [
        "print(\"Final Training Accuracy:\", last_train_accuracy)\n",
        "print(\"Final Validation Accuracy:\", last_validation_accuracy)\n",
        "\n",
        "if args.test_data is not None:\n",
        "    model.eval()  # Set model to evaluation mode\n",
        "    print(\"========== Testing on test data ==========\")\n",
        "    test_data, _ = load_data(args.test_data, args.val_data)  # Load test data\n",
        "\n",
        "    correct = 0\n",
        "    total = 0\n",
        "\n",
        "    # Iterate over each test example\n",
        "    for input_words, gold_label in tqdm(test_data):\n",
        "        input_words = \" \".join(input_words)\n",
        "        # Remove punctuation and split words\n",
        "        input_words = input_words.translate(input_words.maketrans(\"\", \"\", string.punctuation)).split()\n",
        "        # Get word embeddings for the words in the sentence\n",
        "        vectors = [word_embedding[i.lower()] if i.lower() in word_embedding.keys() else word_embedding['unk'] for i in input_words]\n",
        "\n",
        "        # Convert to tensor and reshape for RNN input: (seq_len, batch_size, input_dim)\n",
        "        vectors = torch.tensor(vectors).view(len(vectors), 1, -1)\n",
        "        output = model(vectors)  # Forward pass to get the model's output\n",
        "        predicted_label = torch.argmax(output)  # Get the predicted class\n",
        "\n",
        "        # Count correct predictions\n",
        "        correct += int(predicted_label == gold_label)\n",
        "        total += 1\n",
        "\n",
        "    # Calculate and print test accuracy\n",
        "    test_accuracy = correct / total\n",
        "    print(\"Test Accuracy: {:.2f}%\".format(test_accuracy * 100))\n"
      ],
      "metadata": {
        "colab": {
          "base_uri": "https://localhost:8080/"
        },
        "id": "GMR0TE90aqgp",
        "outputId": "b5309945-9d6f-4f66-bd03-42882fcdbada"
      },
      "execution_count": 64,
      "outputs": [
        {
          "output_type": "stream",
          "name": "stdout",
          "text": [
            "Final Training Accuracy: 0.231875\n",
            "Final Validation Accuracy: 0.32625\n",
            "========== Testing on test data ==========\n"
          ]
        },
        {
          "output_type": "stream",
          "name": "stderr",
          "text": [
            "100%|██████████| 800/800 [00:04<00:00, 162.36it/s]"
          ]
        },
        {
          "output_type": "stream",
          "name": "stdout",
          "text": [
            "Test Accuracy: 36.12%\n"
          ]
        },
        {
          "output_type": "stream",
          "name": "stderr",
          "text": [
            "\n"
          ]
        }
      ]
    },
    {
      "cell_type": "code",
      "source": [
        "import matplotlib.pyplot as plt\n",
        "\n",
        "# Check if train_losses and val_accuracies are populated with data\n",
        "if len(train_losses) == 0 or len(val_accuracies) == 0:\n",
        "    print(\"train_losses or val_accuracies are empty. Please check your data.\")\n",
        "else:\n",
        "    # Define the number of epochs based on the data length\n",
        "    epochs = len(train_losses)  # assuming train_losses and val_accuracies have the same length\n",
        "\n",
        "    # Plot training loss and validation accuracy\n",
        "    plt.figure(figsize=(8, 6))\n",
        "    plt.plot(range(epochs), train_losses, label=\"Training Loss\", color=\"blue\")\n",
        "    plt.plot(range(epochs), val_accuracies, label=\"Validation Accuracy\", color=\"orange\")\n",
        "\n",
        "    # Adding labels, title, and legend\n",
        "    plt.xlabel(\"Epochs\")\n",
        "    plt.ylabel(\"Loss / Accuracy\")\n",
        "    plt.title(\"Training Loss and Validation Accuracy over Epochs (RNN)\")\n",
        "    plt.legend()\n",
        "\n",
        "    # Show plot\n",
        "    plt.show()\n"
      ],
      "metadata": {
        "colab": {
          "base_uri": "https://localhost:8080/",
          "height": 564
        },
        "id": "TaZt6RZDdl4Z",
        "outputId": "b25aba66-f6e9-4147-8385-65bbd496e651"
      },
      "execution_count": 65,
      "outputs": [
        {
          "output_type": "display_data",
          "data": {
            "text/plain": [
              "<Figure size 800x600 with 1 Axes>"
            ],
            "image/png": "[encoded data removed]"
          },
          "metadata": {}
        }
      ]
    },
    {
      "cell_type": "code",
      "source": [],
      "metadata": {
        "id": "1htVVQoHirmv"
      },
      "execution_count": null,
      "outputs": []
    }
  ]
}