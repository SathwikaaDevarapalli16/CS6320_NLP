{
  "nbformat": 4,
  "nbformat_minor": 0,
  "metadata": {
    "colab": {
      "provenance": []
    },
    "kernelspec": {
      "name": "python3",
      "display_name": "Python 3"
    },
    "language_info": {
      "name": "python"
    }
  },
  "cells": [
    {
      "cell_type": "code",
      "execution_count": 1,
      "metadata": {
        "id": "hCJqydO29d7X"
      },
      "outputs": [],
      "source": [
        "# Import libraries\n",
        "import numpy as np\n",
        "import random\n",
        "import torch\n",
        "import torch.nn as nn\n",
        "from torch.nn import init\n",
        "import torch.optim as optim\n",
        "import time\n",
        "from tqdm import tqdm\n",
        "import json\n",
        "from argparse import ArgumentParser\n"
      ]
    },
    {
      "cell_type": "code",
      "source": [
        "# Constants\n",
        "unk = '<UNK>'\n",
        "\n",
        "# Feedforward Neural Network (FFNN) class\n",
        "class FFNN(nn.Module):\n",
        "    def __init__(self, input_dim, h):\n",
        "        super(FFNN, self).__init__()\n",
        "        self.h = h\n",
        "        self.W1 = nn.Linear(input_dim, h)\n",
        "        self.activation = nn.ReLU()  # ReLU activation function\n",
        "        self.output_dim = 5\n",
        "        self.W2 = nn.Linear(h, self.output_dim)\n",
        "        self.softmax = nn.LogSoftmax(dim=1)  # Softmax function across rows (for log-probabilities)\n",
        "        self.loss = nn.NLLLoss()  # Cross-entropy/negative log likelihood loss\n",
        "\n",
        "    def compute_Loss(self, predicted_vector, gold_label):\n",
        "        return self.loss(predicted_vector, gold_label)\n",
        "\n",
        "    def forward(self, input_vector):\n",
        "        # Ensure the input has batch dimension\n",
        "        if input_vector.dim() == 1:\n",
        "            input_vector = input_vector.unsqueeze(0)  # Add batch dimension\n",
        "\n",
        "        # Hidden layer computation\n",
        "        h = self.W1(input_vector)  # Linear transformation for hidden layer\n",
        "        h = self.activation(h)  # Apply ReLU activation\n",
        "\n",
        "        # Output layer computation\n",
        "        z = self.W2(h)  # Linear transformation to get logits\n",
        "\n",
        "        # Softmax to get probability distribution\n",
        "        predicted_vector = self.softmax(z)  # Convert logits to log-probabilities\n",
        "\n",
        "        return predicted_vector\n"
      ],
      "metadata": {
        "id": "Hda5Wt6Y96JD"
      },
      "execution_count": 2,
      "outputs": []
    },
    {
      "cell_type": "code",
      "source": [
        "# Create vocabulary from dataset\n",
        "def make_vocab(data):\n",
        "    vocab = set()\n",
        "    for document, _ in data:\n",
        "        for word in document:\n",
        "            vocab.add(word)\n",
        "    return vocab\n",
        "\n",
        "# Generate word2index and index2word mappings\n",
        "def make_indices(vocab):\n",
        "    vocab_list = sorted(vocab)\n",
        "    vocab_list.append(unk)\n",
        "    word2index = {word: idx for idx, word in enumerate(vocab_list)}\n",
        "    index2word = {idx: word for idx, word in enumerate(vocab_list)}\n",
        "    vocab.add(unk)\n",
        "    return vocab, word2index, index2word\n",
        "\n",
        "# Convert dataset to vector representation using word2index\n",
        "def convert_to_vector_representation(data, word2index):\n",
        "    vectorized_data = []\n",
        "    for document, y in data:\n",
        "        vector = torch.zeros(len(word2index))\n",
        "        for word in document:\n",
        "            index = word2index.get(word, word2index[unk])\n",
        "            vector[index] += 1\n",
        "        vectorized_data.append((vector, y))\n",
        "    return vectorized_data\n",
        "\n",
        "# Load data from JSON files\n",
        "def load_data(train_data, val_data):\n",
        "    with open(train_data) as training_f:\n",
        "        training = json.load(training_f)\n",
        "    with open(val_data) as valid_f:\n",
        "        validation = json.load(valid_f)\n",
        "\n",
        "    tra = [(elt[\"text\"].split(), int(elt[\"stars\"] - 1)) for elt in training]\n",
        "    val = [(elt[\"text\"].split(), int(elt[\"stars\"] - 1)) for elt in validation]\n",
        "\n",
        "    return tra, val\n"
      ],
      "metadata": {
        "id": "xG88A-Hj9-b1"
      },
      "execution_count": 3,
      "outputs": []
    },
    {
      "cell_type": "code",
      "source": [
        "    parser = ArgumentParser()\n",
        "    parser.add_argument(\"-hd\", \"--hidden_dim\", type=int, default=50, help=\"Hidden layer dimension\")\n",
        "    parser.add_argument(\"-e\", \"--epochs\", type=int, default=10, help=\"Number of epochs to train\")\n",
        "    parser.add_argument(\"--train_data\", default=r\"C:\\Users\\LENOVO\\Downloads\\training.json\", help=\"Path to training data\")\n",
        "    parser.add_argument(\"--val_data\", default=r\"C:\\Users\\LENOVO\\Downloads\\validation.json\", help=\"Path to validation data\")\n",
        "    parser.add_argument(\"--test_data\", default=r\"C:\\Users\\LENOVO\\Downloads\\test.json\", help=\"Path to test data\")\n",
        "    parser.add_argument('--do_train', action='store_true')\n",
        "    args = parser.parse_args([])"
      ],
      "metadata": {
        "id": "ZMfCAsY3fvlW"
      },
      "execution_count": 26,
      "outputs": []
    },
    {
      "cell_type": "code",
      "source": [
        "# Fix random seeds for reproducibility\n",
        "random.seed(42)\n",
        "torch.manual_seed(42)\n",
        "\n",
        "# Load data (update file paths if necessary)\n",
        "train_data_path = \"/content/training.json\"  # replace with your training file path\n",
        "val_data_path = \"/content/validation.json\"  # replace with your validation file path\n",
        "\n",
        "print(\"========== Loading data ==========\")\n",
        "train_data, valid_data = load_data(train_data_path, val_data_path)\n",
        "vocab = make_vocab(train_data)\n",
        "vocab, word2index, index2word = make_indices(vocab)\n",
        "\n",
        "# Vectorize data\n",
        "print(\"========== Vectorizing data ==========\")\n",
        "train_data = convert_to_vector_representation(train_data, word2index)\n",
        "valid_data = convert_to_vector_representation(valid_data, word2index)\n"
      ],
      "metadata": {
        "colab": {
          "base_uri": "https://localhost:8080/"
        },
        "id": "uhESAHa1-BDT",
        "outputId": "6d0021ac-7703-4bab-f547-0dad5ec03f4d"
      },
      "execution_count": 27,
      "outputs": [
        {
          "output_type": "stream",
          "name": "stdout",
          "text": [
            "========== Loading data ==========\n",
            "========== Vectorizing data ==========\n"
          ]
        }
      ]
    },
    {
      "cell_type": "code",
      "source": [
        "# Initialize model, optimizer, and training parameters\n",
        "model = FFNN(input_dim=len(vocab), h=args.hidden_dim)\n",
        "optimizer = optim.SGD(model.parameters(), lr=0.01, momentum=0.9)"
      ],
      "metadata": {
        "id": "en3x3naq-G3j"
      },
      "execution_count": 28,
      "outputs": []
    },
    {
      "cell_type": "code",
      "source": [
        "# Initialize the lists to store accuracies and losses before starting the training loop\n",
        "train_accuracies = []\n",
        "val_accuracies = []\n",
        "train_losses = []  # List to store training losses\n",
        "\n",
        "print(\"========== Training for {} epochs ==========\".format(args.epochs))\n",
        "\n",
        "for epoch in range(args.epochs):\n",
        "    # Training phase\n",
        "    model.train()\n",
        "    optimizer.zero_grad()\n",
        "    correct = 0\n",
        "    total = 0\n",
        "    epoch_loss = 0  # To accumulate the loss for this epoch\n",
        "    start_time = time.time()\n",
        "    print(\"Training started for epoch {}\".format(epoch + 1))\n",
        "\n",
        "    random.shuffle(train_data)  # Shuffle training data each epoch\n",
        "    minibatch_size = 16\n",
        "    N = len(train_data)\n",
        "\n",
        "    for minibatch_index in tqdm(range(N // minibatch_size)):\n",
        "        optimizer.zero_grad()\n",
        "        loss = None\n",
        "\n",
        "        for example_index in range(minibatch_size):\n",
        "            input_vector, gold_label = train_data[minibatch_index * minibatch_size + example_index]\n",
        "            predicted_vector = model(input_vector)\n",
        "            predicted_label = torch.argmax(predicted_vector)\n",
        "\n",
        "            correct += int(predicted_label == gold_label)\n",
        "            total += 1\n",
        "            example_loss = model.compute_Loss(predicted_vector.view(1, -1), torch.tensor([gold_label]))\n",
        "\n",
        "            if loss is None:\n",
        "                loss = example_loss\n",
        "            else:\n",
        "                loss += example_loss\n",
        "\n",
        "        loss = loss / minibatch_size  # Average the loss over the minibatch\n",
        "        epoch_loss += loss.item()  # Accumulate the loss for this epoch\n",
        "        loss.backward()  # Backpropagation\n",
        "        optimizer.step()  # Parameter update\n",
        "\n",
        "    train_accuracy = (correct / total) * 100  # Training accuracy\n",
        "    train_losses.append(epoch_loss)  # Store training loss for this epoch\n",
        "    train_accuracies.append(train_accuracy)  # Store training accuracy for this epoch\n",
        "    print(\"Training completed for epoch {}\".format(epoch + 1))\n",
        "    print(\"Training accuracy for epoch {}: {:.2f}%\".format(epoch + 1, train_accuracy))\n",
        "    print(\"Training loss for epoch {}: {:.4f}\".format(epoch + 1, epoch_loss))\n",
        "    print(\"Training time for this epoch: {:.2f} seconds\".format(time.time() - start_time))\n",
        "\n",
        "    # Validation phase\n",
        "    correct = 0\n",
        "    total = 0\n",
        "    start_time = time.time()\n",
        "    print(\"Validation started for epoch {}\".format(epoch + 1))\n",
        "\n",
        "    for minibatch_index in tqdm(range(len(valid_data) // minibatch_size)):\n",
        "        loss = None\n",
        "\n",
        "        for example_index in range(minibatch_size):\n",
        "            index = minibatch_index * minibatch_size + example_index\n",
        "            if index >= len(valid_data):\n",
        "                break\n",
        "\n",
        "            input_vector, gold_label = valid_data[index]\n",
        "            predicted_vector = model(input_vector)\n",
        "            predicted_label = torch.argmax(predicted_vector)\n",
        "\n",
        "            correct += int(predicted_label == gold_label)\n",
        "            total += 1\n",
        "            example_loss = model.compute_Loss(predicted_vector.view(1, -1), torch.tensor([gold_label]))\n",
        "\n",
        "            if loss is None:\n",
        "                loss = example_loss\n",
        "            else:\n",
        "                loss += example_loss\n",
        "\n",
        "        loss = loss / minibatch_size\n",
        "\n",
        "    val_accuracy = (correct / total) * 100  # Validation accuracy\n",
        "    val_accuracies.append(val_accuracy)  # Store validation accuracy for this epoch\n",
        "\n",
        "    print(\"Validation completed for epoch {}\".format(epoch + 1))\n",
        "    print(\"Validation accuracy for epoch {}: {:.2f}%\".format(epoch + 1, val_accuracy))\n",
        "    print(\"Validation time for this epoch: {:.2f} seconds\".format(time.time() - start_time))\n"
      ],
      "metadata": {
        "colab": {
          "base_uri": "https://localhost:8080/"
        },
        "id": "pTzGZSS4_Jvy",
        "outputId": "e06f9be7-2d12-4a83-a71f-d3ad223634bf"
      },
      "execution_count": 29,
      "outputs": [
        {
          "output_type": "stream",
          "name": "stdout",
          "text": [
            "========== Training for 10 epochs ==========\n",
            "Training started for epoch 1\n"
          ]
        },
        {
          "output_type": "stream",
          "name": "stderr",
          "text": [
            "100%|██████████| 500/500 [01:02<00:00,  7.99it/s]\n"
          ]
        },
        {
          "output_type": "stream",
          "name": "stdout",
          "text": [
            "Training completed for epoch 1\n",
            "Training accuracy for epoch 1: 52.70%\n",
            "Training loss for epoch 1: 499.7069\n",
            "Training time for this epoch: 62.59 seconds\n",
            "Validation started for epoch 1\n"
          ]
        },
        {
          "output_type": "stream",
          "name": "stderr",
          "text": [
            "100%|██████████| 50/50 [00:01<00:00, 42.65it/s]\n"
          ]
        },
        {
          "output_type": "stream",
          "name": "stdout",
          "text": [
            "Validation completed for epoch 1\n",
            "Validation accuracy for epoch 1: 53.50%\n",
            "Validation time for this epoch: 1.18 seconds\n",
            "Training started for epoch 2\n"
          ]
        },
        {
          "output_type": "stream",
          "name": "stderr",
          "text": [
            "100%|██████████| 500/500 [01:08<00:00,  7.34it/s]\n"
          ]
        },
        {
          "output_type": "stream",
          "name": "stdout",
          "text": [
            "Training completed for epoch 2\n",
            "Training accuracy for epoch 2: 58.56%\n",
            "Training loss for epoch 2: 439.4029\n",
            "Training time for this epoch: 68.18 seconds\n",
            "Validation started for epoch 2\n"
          ]
        },
        {
          "output_type": "stream",
          "name": "stderr",
          "text": [
            "100%|██████████| 50/50 [00:01<00:00, 42.70it/s]\n"
          ]
        },
        {
          "output_type": "stream",
          "name": "stdout",
          "text": [
            "Validation completed for epoch 2\n",
            "Validation accuracy for epoch 2: 59.38%\n",
            "Validation time for this epoch: 1.18 seconds\n",
            "Training started for epoch 3\n"
          ]
        },
        {
          "output_type": "stream",
          "name": "stderr",
          "text": [
            "100%|██████████| 500/500 [01:13<00:00,  6.79it/s]\n"
          ]
        },
        {
          "output_type": "stream",
          "name": "stdout",
          "text": [
            "Training completed for epoch 3\n",
            "Training accuracy for epoch 3: 62.25%\n",
            "Training loss for epoch 3: 408.1412\n",
            "Training time for this epoch: 73.70 seconds\n",
            "Validation started for epoch 3\n"
          ]
        },
        {
          "output_type": "stream",
          "name": "stderr",
          "text": [
            "100%|██████████| 50/50 [00:01<00:00, 34.37it/s]\n"
          ]
        },
        {
          "output_type": "stream",
          "name": "stdout",
          "text": [
            "Validation completed for epoch 3\n",
            "Validation accuracy for epoch 3: 59.62%\n",
            "Validation time for this epoch: 1.47 seconds\n",
            "Training started for epoch 4\n"
          ]
        },
        {
          "output_type": "stream",
          "name": "stderr",
          "text": [
            "100%|██████████| 500/500 [01:14<00:00,  6.73it/s]\n"
          ]
        },
        {
          "output_type": "stream",
          "name": "stdout",
          "text": [
            "Training completed for epoch 4\n",
            "Training accuracy for epoch 4: 64.53%\n",
            "Training loss for epoch 4: 384.4756\n",
            "Training time for this epoch: 74.36 seconds\n",
            "Validation started for epoch 4\n"
          ]
        },
        {
          "output_type": "stream",
          "name": "stderr",
          "text": [
            "100%|██████████| 50/50 [00:01<00:00, 45.81it/s]\n"
          ]
        },
        {
          "output_type": "stream",
          "name": "stdout",
          "text": [
            "Validation completed for epoch 4\n",
            "Validation accuracy for epoch 4: 59.62%\n",
            "Validation time for this epoch: 1.10 seconds\n",
            "Training started for epoch 5\n"
          ]
        },
        {
          "output_type": "stream",
          "name": "stderr",
          "text": [
            "100%|██████████| 500/500 [01:13<00:00,  6.80it/s]\n"
          ]
        },
        {
          "output_type": "stream",
          "name": "stdout",
          "text": [
            "Training completed for epoch 5\n",
            "Training accuracy for epoch 5: 65.10%\n",
            "Training loss for epoch 5: 381.8557\n",
            "Training time for this epoch: 73.53 seconds\n",
            "Validation started for epoch 5\n"
          ]
        },
        {
          "output_type": "stream",
          "name": "stderr",
          "text": [
            "100%|██████████| 50/50 [00:01<00:00, 35.00it/s]\n"
          ]
        },
        {
          "output_type": "stream",
          "name": "stdout",
          "text": [
            "Validation completed for epoch 5\n",
            "Validation accuracy for epoch 5: 59.75%\n",
            "Validation time for this epoch: 1.44 seconds\n",
            "Training started for epoch 6\n"
          ]
        },
        {
          "output_type": "stream",
          "name": "stderr",
          "text": [
            "100%|██████████| 500/500 [01:16<00:00,  6.54it/s]\n"
          ]
        },
        {
          "output_type": "stream",
          "name": "stdout",
          "text": [
            "Training completed for epoch 6\n",
            "Training accuracy for epoch 6: 68.44%\n",
            "Training loss for epoch 6: 351.9873\n",
            "Training time for this epoch: 76.43 seconds\n",
            "Validation started for epoch 6\n"
          ]
        },
        {
          "output_type": "stream",
          "name": "stderr",
          "text": [
            "100%|██████████| 50/50 [00:01<00:00, 35.40it/s]\n"
          ]
        },
        {
          "output_type": "stream",
          "name": "stdout",
          "text": [
            "Validation completed for epoch 6\n",
            "Validation accuracy for epoch 6: 61.00%\n",
            "Validation time for this epoch: 1.42 seconds\n",
            "Training started for epoch 7\n"
          ]
        },
        {
          "output_type": "stream",
          "name": "stderr",
          "text": [
            "100%|██████████| 500/500 [01:16<00:00,  6.53it/s]\n"
          ]
        },
        {
          "output_type": "stream",
          "name": "stdout",
          "text": [
            "Training completed for epoch 7\n",
            "Training accuracy for epoch 7: 71.84%\n",
            "Training loss for epoch 7: 321.4100\n",
            "Training time for this epoch: 76.61 seconds\n",
            "Validation started for epoch 7\n"
          ]
        },
        {
          "output_type": "stream",
          "name": "stderr",
          "text": [
            "100%|██████████| 50/50 [00:01<00:00, 38.67it/s]\n"
          ]
        },
        {
          "output_type": "stream",
          "name": "stdout",
          "text": [
            "Validation completed for epoch 7\n",
            "Validation accuracy for epoch 7: 52.62%\n",
            "Validation time for this epoch: 1.30 seconds\n",
            "Training started for epoch 8\n"
          ]
        },
        {
          "output_type": "stream",
          "name": "stderr",
          "text": [
            "100%|██████████| 500/500 [01:16<00:00,  6.53it/s]\n"
          ]
        },
        {
          "output_type": "stream",
          "name": "stdout",
          "text": [
            "Training completed for epoch 8\n",
            "Training accuracy for epoch 8: 72.61%\n",
            "Training loss for epoch 8: 315.6991\n",
            "Training time for this epoch: 76.61 seconds\n",
            "Validation started for epoch 8\n"
          ]
        },
        {
          "output_type": "stream",
          "name": "stderr",
          "text": [
            "100%|██████████| 50/50 [00:01<00:00, 37.31it/s]\n"
          ]
        },
        {
          "output_type": "stream",
          "name": "stdout",
          "text": [
            "Validation completed for epoch 8\n",
            "Validation accuracy for epoch 8: 59.25%\n",
            "Validation time for this epoch: 1.35 seconds\n",
            "Training started for epoch 9\n"
          ]
        },
        {
          "output_type": "stream",
          "name": "stderr",
          "text": [
            "100%|██████████| 500/500 [01:16<00:00,  6.51it/s]\n"
          ]
        },
        {
          "output_type": "stream",
          "name": "stdout",
          "text": [
            "Training completed for epoch 9\n",
            "Training accuracy for epoch 9: 75.20%\n",
            "Training loss for epoch 9: 290.6766\n",
            "Training time for this epoch: 76.77 seconds\n",
            "Validation started for epoch 9\n"
          ]
        },
        {
          "output_type": "stream",
          "name": "stderr",
          "text": [
            "100%|██████████| 50/50 [00:01<00:00, 38.94it/s]\n"
          ]
        },
        {
          "output_type": "stream",
          "name": "stdout",
          "text": [
            "Validation completed for epoch 9\n",
            "Validation accuracy for epoch 9: 60.25%\n",
            "Validation time for this epoch: 1.29 seconds\n",
            "Training started for epoch 10\n"
          ]
        },
        {
          "output_type": "stream",
          "name": "stderr",
          "text": [
            "100%|██████████| 500/500 [01:17<00:00,  6.46it/s]\n"
          ]
        },
        {
          "output_type": "stream",
          "name": "stdout",
          "text": [
            "Training completed for epoch 10\n",
            "Training accuracy for epoch 10: 78.03%\n",
            "Training loss for epoch 10: 267.7458\n",
            "Training time for this epoch: 77.43 seconds\n",
            "Validation started for epoch 10\n"
          ]
        },
        {
          "output_type": "stream",
          "name": "stderr",
          "text": [
            "100%|██████████| 50/50 [00:01<00:00, 47.78it/s]"
          ]
        },
        {
          "output_type": "stream",
          "name": "stdout",
          "text": [
            "Validation completed for epoch 10\n",
            "Validation accuracy for epoch 10: 59.00%\n",
            "Validation time for this epoch: 1.06 seconds\n"
          ]
        },
        {
          "output_type": "stream",
          "name": "stderr",
          "text": [
            "\n"
          ]
        }
      ]
    },
    {
      "cell_type": "code",
      "source": [
        "test_data_path = \"/content/test.json\"\n",
        "\n",
        "# Load and vectorize test data\n",
        "print(\"========== Testing ==========\")\n",
        "test_data, _ = load_data(test_data_path, val_data_path)\n",
        "test_data = convert_to_vector_representation(test_data, word2index)\n",
        "\n",
        "# Test loop\n",
        "model.eval()\n",
        "correct = 0\n",
        "total = 0\n",
        "for i in range(len(test_data)):\n",
        "    test_vector, test_label = test_data[i]\n",
        "    test_pred_vector = model(test_vector)\n",
        "    test_pred_label = torch.argmax(test_pred_vector)\n",
        "    correct += int(test_pred_label == test_label)\n",
        "    total += 1\n",
        "\n",
        "print(\"TEST ACCURACY: {:.2f}%\".format((correct / total) * 100))"
      ],
      "metadata": {
        "colab": {
          "base_uri": "https://localhost:8080/"
        },
        "id": "-ulxo4JuHGZW",
        "outputId": "517c2382-0eaa-4880-b564-1d6dfdbab574"
      },
      "execution_count": 30,
      "outputs": [
        {
          "output_type": "stream",
          "name": "stdout",
          "text": [
            "========== Testing ==========\n",
            "TEST ACCURACY: 13.50%\n"
          ]
        }
      ]
    },
    {
      "cell_type": "code",
      "source": [
        "import matplotlib.pyplot as plt\n",
        "\n",
        "# Check if train_losses and val_accuracies have been populated with data\n",
        "if len(train_losses) == 0 or len(val_accuracies) == 0:\n",
        "    print(\"train_losses or val_accuracies are empty. Please check your data.\")\n",
        "else:\n",
        "    # Define the number of epochs based on the data length\n",
        "    epochs = len(train_losses)  # assuming train_losses and val_accuracies are of equal length\n",
        "\n",
        "    # Plot training loss and validation accuracy\n",
        "    plt.figure(figsize=(8, 6))\n",
        "    plt.plot(range(epochs), train_losses, label=\"Training Loss\", color=\"blue\")\n",
        "    plt.plot(range(epochs), val_accuracies, label=\"Validation Accuracy\", color=\"orange\")\n",
        "\n",
        "    # Adding labels and title\n",
        "    plt.xlabel(\"Epochs\")\n",
        "    plt.ylabel(\"Loss / Accuracy\")\n",
        "    plt.title(\"Training Loss and Validation Accuracy over Epochs\")\n",
        "    plt.legend()\n",
        "\n",
        "    # Show plot\n",
        "    plt.show()\n"
      ],
      "metadata": {
        "id": "bErLmgbJY6sP",
        "colab": {
          "base_uri": "https://localhost:8080/",
          "height": 564
        },
        "outputId": "1d19f53d-ad7a-40b3-fc42-5ad42d72f22f"
      },
      "execution_count": 32,
      "outputs": [
        {
          "output_type": "display_data",
          "data": {
            "text/plain": [
              "<Figure size 800x600 with 1 Axes>"
            ],
            "image/png": "[encoded data removed]"
          },
          "metadata": {}
        }
      ]
    },
    {
      "cell_type": "code",
      "source": [],
      "metadata": {
        "id": "9HrxqlE0tLka"
      },
      "execution_count": null,
      "outputs": []
    }
  ]
}